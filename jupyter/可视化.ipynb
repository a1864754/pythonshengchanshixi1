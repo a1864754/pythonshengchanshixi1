{
 "cells": [
  {
   "cell_type": "markdown",
   "metadata": {},
   "source": [
    "# 1 Pdandas疫情探索性分析\n"
   ]
  },
  {
   "cell_type": "markdown",
   "metadata": {},
   "source": [
    "## 1.1 全国各省实时疫情数据探索性分析"
   ]
  },
  {
   "cell_type": "code",
   "execution_count": 4,
   "metadata": {
    "collapsed": true
   },
   "outputs": [],
   "source": [
    "import pandas as pd\n",
    "import matplotlib.pyplot as plt\n",
    "import numpy as np"
   ]
  },
  {
   "cell_type": "code",
   "execution_count": 5,
   "metadata": {
    "collapsed": true
   },
   "outputs": [],
   "source": [
    "today_provience = pd.read_csv(\"../covid_data/today_province_2020_04_27.csv\")"
   ]
  },
  {
   "cell_type": "code",
   "execution_count": 6,
   "metadata": {
    "collapsed": true
   },
   "outputs": [],
   "source": [
    "# today_provience.head()"
   ]
  },
  {
   "cell_type": "markdown",
   "metadata": {},
   "source": [
    "### 修改列名"
   ]
  },
  {
   "cell_type": "code",
   "execution_count": 7,
   "metadata": {},
   "outputs": [
    {
     "data": {
      "text/plain": [
       "Index(['id', 'lastUpdateTime', 'name', 'total_confirm', 'total_suspect',\n",
       "       'total_heal', 'total_dead', 'total_severe', 'total_input',\n",
       "       'today_confirm', 'today_suspect', 'today_heal', 'today_dead',\n",
       "       'today_severe', 'today_storeConfirm', 'today_input'],\n",
       "      dtype='object')"
      ]
     },
     "execution_count": 7,
     "metadata": {},
     "output_type": "execute_result"
    }
   ],
   "source": [
    "today_provience.columns"
   ]
  },
  {
   "cell_type": "code",
   "execution_count": 8,
   "metadata": {
    "collapsed": true
   },
   "outputs": [],
   "source": [
    "name_dict = {'id':\"编号\", 'name':'名称', 'lastUpdateTime':'更新时间', 'total_confirm':'累计确诊', 'total_suspect':'累计疑似',\n",
    "       'total_heal':'累计治愈', 'total_dead':'累计死亡', 'total_severe':'累计重症', 'total_input':'累计输入',\n",
    "       'total_newConfirm':'累计新增确诊', 'total_newDead':'累计新增死亡', 'total_newHeal':'累计新增治愈', 'today_confirm':'当日新增确诊',\n",
    "       'today_suspect':'当日新增疑似', 'today_heal':'当日新增疑似', 'today_dead':'当日新增死亡', 'today_severe':'当日新增疑似',\n",
    "       'today_storeConfirm':'当日现存确诊', 'today_input':'当日新增输入'}"
   ]
  },
  {
   "cell_type": "code",
   "execution_count": 9,
   "metadata": {
    "collapsed": true
   },
   "outputs": [],
   "source": [
    "today_provience.rename(columns=name_dict,inplace=True)\n",
    "# today_provience.head(20)"
   ]
  },
  {
   "cell_type": "markdown",
   "metadata": {},
   "source": [
    "#### 查看基本信息 "
   ]
  },
  {
   "cell_type": "code",
   "execution_count": 10,
   "metadata": {
    "collapsed": true
   },
   "outputs": [],
   "source": [
    "# today_provience.info()"
   ]
  },
  {
   "cell_type": "code",
   "execution_count": 11,
   "metadata": {
    "collapsed": true,
    "scrolled": true
   },
   "outputs": [],
   "source": [
    "# today_provience.describe()"
   ]
  },
  {
   "cell_type": "markdown",
   "metadata": {},
   "source": [
    "#### 计算当日现存确诊"
   ]
  },
  {
   "cell_type": "code",
   "execution_count": 12,
   "metadata": {},
   "outputs": [
    {
     "data": {
      "text/html": [
       "<div>\n",
       "<style>\n",
       "    .dataframe thead tr:only-child th {\n",
       "        text-align: right;\n",
       "    }\n",
       "\n",
       "    .dataframe thead th {\n",
       "        text-align: left;\n",
       "    }\n",
       "\n",
       "    .dataframe tbody tr th {\n",
       "        vertical-align: top;\n",
       "    }\n",
       "</style>\n",
       "<table border=\"1\" class=\"dataframe\">\n",
       "  <thead>\n",
       "    <tr style=\"text-align: right;\">\n",
       "      <th></th>\n",
       "      <th>编号</th>\n",
       "      <th>更新时间</th>\n",
       "      <th>名称</th>\n",
       "      <th>累计确诊</th>\n",
       "      <th>累计疑似</th>\n",
       "      <th>累计治愈</th>\n",
       "      <th>累计死亡</th>\n",
       "      <th>累计重症</th>\n",
       "      <th>累计输入</th>\n",
       "      <th>当日新增确诊</th>\n",
       "      <th>当日新增疑似</th>\n",
       "      <th>当日新增疑似</th>\n",
       "      <th>当日新增死亡</th>\n",
       "      <th>当日新增疑似</th>\n",
       "      <th>当日现存确诊</th>\n",
       "      <th>当日新增输入</th>\n",
       "    </tr>\n",
       "  </thead>\n",
       "  <tbody>\n",
       "    <tr>\n",
       "      <th>0</th>\n",
       "      <td>420000</td>\n",
       "      <td>2020-04-27 08:54:31</td>\n",
       "      <td>湖北</td>\n",
       "      <td>68128</td>\n",
       "      <td>0</td>\n",
       "      <td>63616</td>\n",
       "      <td>4512</td>\n",
       "      <td>0</td>\n",
       "      <td>0</td>\n",
       "      <td>0</td>\n",
       "      <td>NaN</td>\n",
       "      <td>12</td>\n",
       "      <td>0</td>\n",
       "      <td>NaN</td>\n",
       "      <td>0</td>\n",
       "      <td>0</td>\n",
       "    </tr>\n",
       "    <tr>\n",
       "      <th>1</th>\n",
       "      <td>440000</td>\n",
       "      <td>2020-04-27 08:27:52</td>\n",
       "      <td>广东</td>\n",
       "      <td>1587</td>\n",
       "      <td>0</td>\n",
       "      <td>1542</td>\n",
       "      <td>8</td>\n",
       "      <td>0</td>\n",
       "      <td>0</td>\n",
       "      <td>1</td>\n",
       "      <td>NaN</td>\n",
       "      <td>0</td>\n",
       "      <td>0</td>\n",
       "      <td>NaN</td>\n",
       "      <td>37</td>\n",
       "      <td>0</td>\n",
       "    </tr>\n",
       "    <tr>\n",
       "      <th>2</th>\n",
       "      <td>410000</td>\n",
       "      <td>2020-04-27 09:43:17</td>\n",
       "      <td>河南</td>\n",
       "      <td>1276</td>\n",
       "      <td>0</td>\n",
       "      <td>1254</td>\n",
       "      <td>22</td>\n",
       "      <td>0</td>\n",
       "      <td>0</td>\n",
       "      <td>0</td>\n",
       "      <td>NaN</td>\n",
       "      <td>0</td>\n",
       "      <td>0</td>\n",
       "      <td>NaN</td>\n",
       "      <td>0</td>\n",
       "      <td>0</td>\n",
       "    </tr>\n",
       "    <tr>\n",
       "      <th>3</th>\n",
       "      <td>330000</td>\n",
       "      <td>2020-04-27 09:01:02</td>\n",
       "      <td>浙江</td>\n",
       "      <td>1268</td>\n",
       "      <td>0</td>\n",
       "      <td>1258</td>\n",
       "      <td>1</td>\n",
       "      <td>0</td>\n",
       "      <td>0</td>\n",
       "      <td>0</td>\n",
       "      <td>NaN</td>\n",
       "      <td>1</td>\n",
       "      <td>0</td>\n",
       "      <td>NaN</td>\n",
       "      <td>9</td>\n",
       "      <td>0</td>\n",
       "    </tr>\n",
       "    <tr>\n",
       "      <th>4</th>\n",
       "      <td>810000</td>\n",
       "      <td>2020-04-27 08:39:10</td>\n",
       "      <td>香港</td>\n",
       "      <td>1037</td>\n",
       "      <td>0</td>\n",
       "      <td>772</td>\n",
       "      <td>4</td>\n",
       "      <td>0</td>\n",
       "      <td>0</td>\n",
       "      <td>0</td>\n",
       "      <td>0.0</td>\n",
       "      <td>19</td>\n",
       "      <td>0</td>\n",
       "      <td>0.0</td>\n",
       "      <td>261</td>\n",
       "      <td>0</td>\n",
       "    </tr>\n",
       "    <tr>\n",
       "      <th>5</th>\n",
       "      <td>430000</td>\n",
       "      <td>2020-04-27 08:55:53</td>\n",
       "      <td>湖南</td>\n",
       "      <td>1019</td>\n",
       "      <td>0</td>\n",
       "      <td>1015</td>\n",
       "      <td>4</td>\n",
       "      <td>0</td>\n",
       "      <td>0</td>\n",
       "      <td>0</td>\n",
       "      <td>NaN</td>\n",
       "      <td>0</td>\n",
       "      <td>0</td>\n",
       "      <td>NaN</td>\n",
       "      <td>0</td>\n",
       "      <td>0</td>\n",
       "    </tr>\n",
       "    <tr>\n",
       "      <th>6</th>\n",
       "      <td>340000</td>\n",
       "      <td>2020-04-27 08:13:13</td>\n",
       "      <td>安徽</td>\n",
       "      <td>991</td>\n",
       "      <td>0</td>\n",
       "      <td>985</td>\n",
       "      <td>6</td>\n",
       "      <td>0</td>\n",
       "      <td>0</td>\n",
       "      <td>0</td>\n",
       "      <td>NaN</td>\n",
       "      <td>0</td>\n",
       "      <td>0</td>\n",
       "      <td>NaN</td>\n",
       "      <td>0</td>\n",
       "      <td>0</td>\n",
       "    </tr>\n",
       "    <tr>\n",
       "      <th>7</th>\n",
       "      <td>360000</td>\n",
       "      <td>2020-04-27 09:00:13</td>\n",
       "      <td>江西</td>\n",
       "      <td>937</td>\n",
       "      <td>0</td>\n",
       "      <td>936</td>\n",
       "      <td>1</td>\n",
       "      <td>0</td>\n",
       "      <td>0</td>\n",
       "      <td>0</td>\n",
       "      <td>NaN</td>\n",
       "      <td>0</td>\n",
       "      <td>0</td>\n",
       "      <td>NaN</td>\n",
       "      <td>0</td>\n",
       "      <td>0</td>\n",
       "    </tr>\n",
       "    <tr>\n",
       "      <th>8</th>\n",
       "      <td>230000</td>\n",
       "      <td>2020-04-27 09:34:15</td>\n",
       "      <td>黑龙江</td>\n",
       "      <td>936</td>\n",
       "      <td>0</td>\n",
       "      <td>556</td>\n",
       "      <td>13</td>\n",
       "      <td>0</td>\n",
       "      <td>0</td>\n",
       "      <td>1</td>\n",
       "      <td>NaN</td>\n",
       "      <td>45</td>\n",
       "      <td>0</td>\n",
       "      <td>NaN</td>\n",
       "      <td>367</td>\n",
       "      <td>0</td>\n",
       "    </tr>\n",
       "    <tr>\n",
       "      <th>9</th>\n",
       "      <td>370000</td>\n",
       "      <td>2020-04-27 08:44:53</td>\n",
       "      <td>山东</td>\n",
       "      <td>787</td>\n",
       "      <td>0</td>\n",
       "      <td>768</td>\n",
       "      <td>7</td>\n",
       "      <td>0</td>\n",
       "      <td>0</td>\n",
       "      <td>0</td>\n",
       "      <td>NaN</td>\n",
       "      <td>1</td>\n",
       "      <td>0</td>\n",
       "      <td>NaN</td>\n",
       "      <td>12</td>\n",
       "      <td>0</td>\n",
       "    </tr>\n",
       "  </tbody>\n",
       "</table>\n",
       "</div>"
      ],
      "text/plain": [
       "       编号                 更新时间   名称   累计确诊  累计疑似   累计治愈  累计死亡  累计重症  累计输入  \\\n",
       "0  420000  2020-04-27 08:54:31   湖北  68128     0  63616  4512     0     0   \n",
       "1  440000  2020-04-27 08:27:52   广东   1587     0   1542     8     0     0   \n",
       "2  410000  2020-04-27 09:43:17   河南   1276     0   1254    22     0     0   \n",
       "3  330000  2020-04-27 09:01:02   浙江   1268     0   1258     1     0     0   \n",
       "4  810000  2020-04-27 08:39:10   香港   1037     0    772     4     0     0   \n",
       "5  430000  2020-04-27 08:55:53   湖南   1019     0   1015     4     0     0   \n",
       "6  340000  2020-04-27 08:13:13   安徽    991     0    985     6     0     0   \n",
       "7  360000  2020-04-27 09:00:13   江西    937     0    936     1     0     0   \n",
       "8  230000  2020-04-27 09:34:15  黑龙江    936     0    556    13     0     0   \n",
       "9  370000  2020-04-27 08:44:53   山东    787     0    768     7     0     0   \n",
       "\n",
       "   当日新增确诊  当日新增疑似  当日新增疑似  当日新增死亡  当日新增疑似  当日现存确诊  当日新增输入  \n",
       "0       0     NaN      12       0     NaN       0       0  \n",
       "1       1     NaN       0       0     NaN      37       0  \n",
       "2       0     NaN       0       0     NaN       0       0  \n",
       "3       0     NaN       1       0     NaN       9       0  \n",
       "4       0     0.0      19       0     0.0     261       0  \n",
       "5       0     NaN       0       0     NaN       0       0  \n",
       "6       0     NaN       0       0     NaN       0       0  \n",
       "7       0     NaN       0       0     NaN       0       0  \n",
       "8       1     NaN      45       0     NaN     367       0  \n",
       "9       0     NaN       1       0     NaN      12       0  "
      ]
     },
     "execution_count": 12,
     "metadata": {},
     "output_type": "execute_result"
    }
   ],
   "source": [
    "today_provience['当日现存确诊'] = today_provience['累计确诊'] - today_provience['累计治愈'] - today_provience['累计死亡'] \n",
    "today_provience.head(10)"
   ]
  },
  {
   "cell_type": "code",
   "execution_count": 13,
   "metadata": {
    "collapsed": true
   },
   "outputs": [],
   "source": [
    "today_provience.set_index('名称',inplace=True)\n",
    "# today_provience.head()"
   ]
  },
  {
   "cell_type": "code",
   "execution_count": 14,
   "metadata": {
    "collapsed": true
   },
   "outputs": [],
   "source": [
    "new_top = today_provience[\"当日新增确诊\"].sort_values(ascending=False)[:10]\n",
    "# new_top"
   ]
  },
  {
   "cell_type": "markdown",
   "metadata": {},
   "source": [
    "#### 可视化"
   ]
  },
  {
   "cell_type": "code",
   "execution_count": 15,
   "metadata": {
    "collapsed": true
   },
   "outputs": [],
   "source": [
    "plt.rcParams['font.sans-serif'] = 'SimHei' # 语言设置为中文\n",
    "plt.rcParams['axes.unicode_minus'] = 'False'"
   ]
  },
  {
   "cell_type": "code",
   "execution_count": 23,
   "metadata": {},
   "outputs": [
    {
     "data": {
      "text/plain": [
       "<matplotlib.figure.Figure at 0xdb33908>"
      ]
     },
     "metadata": {},
     "output_type": "display_data"
    },
    {
     "data": {
      "image/png": "[encoded data removed]",
      "text/plain": [
       "<matplotlib.figure.Figure at 0xb47fd30>"
      ]
     },
     "metadata": {},
     "output_type": "display_data"
    }
   ],
   "source": [
    "\n",
    "fig,ax = plt.subplots(1,3,figsize=(15,5))\n",
    "new_top.sort_values(ascending=True).plot.barh(fontsize=10,ax=ax[0])\n",
    "ax[0].set_title('全国新增确诊top10')\n",
    "new_top.plot.pie(autopct='%.1f%%',fontsize=10,ax=ax[1])\n",
    "store_top10 = today_provience[\"当日现存确诊\"].sort_values(ascending=False)[:10]\n",
    "store_top10.sort_values(ascending=True).plot.barh(fontsize=10,ax=ax[2])\n",
    "ax[2].set_title(\"全国当日现存确诊排行\")\n",
    "plt.ylabel(\"名称\")\n",
    "plt.savefig('./1.png',dpi=300)\n",
    "plt.show()"
   ]
  },
  {
   "cell_type": "markdown",
   "metadata": {},
   "source": [
    "#### 现存确诊top10 "
   ]
  },
  {
   "cell_type": "code",
   "execution_count": 19,
   "metadata": {},
   "outputs": [
    {
     "data": {
      "text/plain": [
       "名称\n",
       "黑龙江    367\n",
       "香港     261\n",
       "台湾     142\n",
       "内蒙古     68\n",
       "上海      67\n",
       "北京      59\n",
       "山西      40\n",
       "广东      37\n",
       "陕西      30\n",
       "澳门      14\n",
       "Name: 当日现存确诊, dtype: int64"
      ]
     },
     "execution_count": 19,
     "metadata": {},
     "output_type": "execute_result"
    }
   ],
   "source": []
  },
  {
   "cell_type": "code",
   "execution_count": 22,
   "metadata": {},
   "outputs": [
    {
     "data": {
      "image/png": "[encoded data removed]",
      "text/plain": [
       "<matplotlib.figure.Figure at 0xbc91940>"
      ]
     },
     "metadata": {},
     "output_type": "display_data"
    }
   ],
   "source": []
  },
  {
   "cell_type": "code",
   "execution_count": null,
   "metadata": {
    "collapsed": true
   },
   "outputs": [],
   "source": []
  }
 ],
 "metadata": {
  "kernelspec": {
   "display_name": "Python 3",
   "language": "python",
   "name": "python3"
  },
  "language_info": {
   "codemirror_mode": {
    "name": "ipython",
    "version": 3
   },
   "file_extension": ".py",
   "mimetype": "text/x-python",
   "name": "python",
   "nbconvert_exporter": "python",
   "pygments_lexer": "ipython3",
   "version": "3.6.3"
  }
 },
 "nbformat": 4,
 "nbformat_minor": 2
}
